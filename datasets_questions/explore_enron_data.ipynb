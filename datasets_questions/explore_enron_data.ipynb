{
 "cells": [
  {
   "cell_type": "code",
   "execution_count": 44,
   "id": "b0ab61f9",
   "metadata": {},
   "outputs": [],
   "source": [
    "\"\"\"\n",
    "This is Udacity 120 Machine Learning Chapter Datasets and Questions\n",
    "Below are the original file explore_enron_data.py\n",
    "\"\"\"\n",
    "\n",
    "\"\"\" \n",
    "    Starter code for exploring the Enron dataset (emails + finances);\n",
    "    loads up the dataset (pickled dict of dicts).\n",
    "\n",
    "    The dataset has the form:\n",
    "    enron_data[\"LASTNAME FIRSTNAME MIDDLEINITIAL\"] = { features_dict }\n",
    "\n",
    "    {features_dict} is a dictionary of features associated with that person.\n",
    "    You should explore features_dict as part of the mini-project,\n",
    "    but here's an example to get you started:\n",
    "\n",
    "    enron_data[\"SKILLING JEFFREY K\"][\"bonus\"] = 5600000\n",
    "    \n",
    "\"\"\"\n",
    "\n",
    "import joblib\n",
    "enron_data = joblib.load(open(\"/home/ychen/ud120-projects/final_project/final_project_dataset.pkl\", \"rb\"))"
   ]
  },
  {
   "cell_type": "code",
   "execution_count": 45,
   "id": "dddf129c",
   "metadata": {},
   "outputs": [],
   "source": [
    "import pandas as pd\n",
    "enron_df = pd.DataFrame(pd.read_pickle(\"/home/ychen/ud120-projects/final_project/final_project_dataset.pkl\")).T"
   ]
  },
  {
   "cell_type": "code",
   "execution_count": 46,
   "id": "681ec949",
   "metadata": {},
   "outputs": [
    {
     "name": "stdout",
     "output_type": "stream",
     "text": [
      "Size of the Enron Dataset: 146\n"
     ]
    }
   ],
   "source": [
    "### 1. Size of the Enron Dataset\n",
    "print(\"Size of the Enron Dataset:\", len(enron_df))"
   ]
  },
  {
   "cell_type": "code",
   "execution_count": 4,
   "id": "beade994",
   "metadata": {},
   "outputs": [
    {
     "name": "stdout",
     "output_type": "stream",
     "text": [
      "Features in the Enron Dataset: 21\n"
     ]
    }
   ],
   "source": [
    "### 2. Features in the Enron Dataset\n",
    "print(\"Features in the Enron Dataset:\", enron_df.shape[1])"
   ]
  },
  {
   "cell_type": "code",
   "execution_count": 5,
   "id": "35cc7d50",
   "metadata": {},
   "outputs": [
    {
     "name": "stdout",
     "output_type": "stream",
     "text": [
      "True POIs in the Enron Data: 18\n"
     ]
    }
   ],
   "source": [
    "### 3. Finding POIs in the Enron Data\n",
    "print(\"True POIs in the Enron Data:\", sum(enron_df.poi == 1))"
   ]
  },
  {
   "cell_type": "code",
   "execution_count": 6,
   "id": "50ab3cb6",
   "metadata": {},
   "outputs": [
    {
     "name": "stdout",
     "output_type": "stream",
     "text": [
      "Existed POIs: 35\n"
     ]
    }
   ],
   "source": [
    "### 4. How Many POIs Exist?\n",
    "existed_pois = pd.read_csv('/home/ychen/ud120-projects/final_project/poi_names.txt')\n",
    "print(\"Existed POIs:\", len(existed_pois))"
   ]
  },
  {
   "cell_type": "code",
   "execution_count": 13,
   "id": "fc8dcf1d",
   "metadata": {},
   "outputs": [
    {
     "name": "stdout",
     "output_type": "stream",
     "text": [
      "What is the total value of the stock belonging to James Prentice? 1095040\n"
     ]
    }
   ],
   "source": [
    "# Query the Dataset 1\n",
    "# What is the total value of the stock belonging to James Prentice?\n",
    "print(\"What is the total value of the stock belonging to James Prentice?\", \n",
    "      enron_df.loc['PRENTICE JAMES'].total_stock_value)"
   ]
  },
  {
   "cell_type": "code",
   "execution_count": 17,
   "id": "1935a99f",
   "metadata": {},
   "outputs": [
    {
     "name": "stdout",
     "output_type": "stream",
     "text": [
      "How many email messages do we have from Wesley Colwell to persons of interest? 11\n"
     ]
    }
   ],
   "source": [
    "# Query the Dataset 2\n",
    "# How many email messages do we have from Wesley Colwell to persons of interest?\n",
    "print(\"How many email messages do we have from Wesley Colwell to persons of interest?\",\n",
    "enron_df.loc['COLWELL WESLEY'].from_this_person_to_poi)"
   ]
  },
  {
   "cell_type": "code",
   "execution_count": 25,
   "id": "8c114a84",
   "metadata": {},
   "outputs": [
    {
     "name": "stdout",
     "output_type": "stream",
     "text": [
      "What’s the value of stock options exercised by Jeffrey K Skilling? 19250000\n"
     ]
    }
   ],
   "source": [
    "# Query the Dataset 3\n",
    "# What’s the value of stock options exercised by Jeffrey K Skilling?\n",
    "print(\"What’s the value of stock options exercised by Jeffrey K Skilling?\",\n",
    "enron_df.loc['SKILLING JEFFREY K'].exercised_stock_options)"
   ]
  },
  {
   "cell_type": "code",
   "execution_count": 28,
   "id": "d939b6b9",
   "metadata": {},
   "outputs": [
    {
     "name": "stdout",
     "output_type": "stream",
     "text": [
      "SKILLING JEFFREY K: 8682716\n",
      "LAY KENNETH L: 103559793\n",
      "FASTOW ANDREW S: 2424083\n"
     ]
    }
   ],
   "source": [
    "# Follow the Money\n",
    "print(\"SKILLING JEFFREY K:\",enron_df.loc['SKILLING JEFFREY K'].total_payments)\n",
    "print(\"LAY KENNETH L:\",enron_df.loc['LAY KENNETH L'].total_payments)\n",
    "print(\"FASTOW ANDREW S:\",enron_df.loc['FASTOW ANDREW S'].total_payments)"
   ]
  },
  {
   "cell_type": "code",
   "execution_count": 33,
   "id": "1c163740",
   "metadata": {},
   "outputs": [
    {
     "name": "stdout",
     "output_type": "stream",
     "text": [
      "How many folks in this dataset have a quantified salary? 95\n",
      "What about a known email address? 111\n"
     ]
    }
   ],
   "source": [
    "# Dealing with Unfilled Features\n",
    "enron_df.head()\n",
    "print(\"How many folks in this dataset have a quantified salary?\",\n",
    "     len(enron_df[enron_df.salary != 'NaN']))\n",
    "print(\"What about a known email address?\",\n",
    "     len(enron_df[enron_df.email_address != 'NaN']))"
   ]
  },
  {
   "cell_type": "code",
   "execution_count": 35,
   "id": "4ae31bf5",
   "metadata": {},
   "outputs": [
    {
     "name": "stdout",
     "output_type": "stream",
     "text": [
      "How many people in the E+F dataset (as it currently exists) have 'NaN' for their total payments? 21\n",
      "What percentage of people in the dataset as a whole is this?? 0.14383561643835616\n"
     ]
    }
   ],
   "source": [
    "# Missing POIs 1 (optional)\n",
    "print(\"How many people in the E+F dataset (as it currently exists) have 'NaN' for their total payments?\",\n",
    "     len(enron_df[enron_df.total_payments == 'NaN']))\n",
    "print(\"What percentage of people in the dataset as a whole is this??\",\n",
    "     len(enron_df[enron_df.total_payments == 'NaN'])/len(enron_df))"
   ]
  },
  {
   "cell_type": "code",
   "execution_count": 40,
   "id": "9a0695cb",
   "metadata": {},
   "outputs": [
    {
     "name": "stdout",
     "output_type": "stream",
     "text": [
      "How many POIs in the E+F dataset have “NaN” for their total payments? 0\n",
      "What percentage of POI’s as a whole is this? 0.0\n"
     ]
    }
   ],
   "source": [
    "# Missing POIs 2 (optional)\n",
    "enron_df.head()\n",
    "print(\"How many POIs in the E+F dataset have “NaN” for their total payments?\",\n",
    "     len(enron_df[(enron_df.total_payments == 'NaN') & (enron_df.poi == True)]))\n",
    "print(\"What percentage of POI’s as a whole is this?\",\n",
    "     len(enron_df[(enron_df.total_payments == 'NaN') & (enron_df.poi == True)])/len(enron_df))"
   ]
  },
  {
   "cell_type": "code",
   "execution_count": 41,
   "id": "66b163dc",
   "metadata": {},
   "outputs": [
    {
     "name": "stdout",
     "output_type": "stream",
     "text": [
      "What is the new number of people of the dataset? 156\n",
      "What is the new number of folks with “NaN” for total payments? 31\n"
     ]
    }
   ],
   "source": [
    "# Missing POIs 4 (optional)\n",
    "new_pois = 10\n",
    "print(\"What is the new number of people of the dataset?\",len(enron_df)+new_pois)\n",
    "print(\"What is the new number of folks with “NaN” for total payments?\",\n",
    "      len(enron_df[enron_df.total_payments == 'NaN'])+new_pois)"
   ]
  },
  {
   "cell_type": "code",
   "execution_count": 43,
   "id": "82181a52",
   "metadata": {},
   "outputs": [
    {
     "name": "stdout",
     "output_type": "stream",
     "text": [
      "What is the new number of POI’s in the dataset? 28\n",
      "What is the new number of POI’s with NaN for total_payments? 10\n"
     ]
    }
   ],
   "source": [
    "# Missing POIs 5 (optional)\n",
    "print(\"What is the new number of POI’s in the dataset?\",sum(enron_df.poi == 1)+new_pois)\n",
    "print(\"What is the new number of POI’s with NaN for total_payments?\", \n",
    "      len(enron_df[(enron_df.total_payments == 'NaN') & (enron_df.poi == True)])+new_pois)"
   ]
  },
  {
   "cell_type": "code",
   "execution_count": null,
   "id": "80f08719",
   "metadata": {},
   "outputs": [],
   "source": []
  }
 ],
 "metadata": {
  "kernelspec": {
   "display_name": "Python 3 (ipykernel)",
   "language": "python",
   "name": "python3"
  },
  "language_info": {
   "codemirror_mode": {
    "name": "ipython",
    "version": 3
   },
   "file_extension": ".py",
   "mimetype": "text/x-python",
   "name": "python",
   "nbconvert_exporter": "python",
   "pygments_lexer": "ipython3",
   "version": "3.8.10"
  }
 },
 "nbformat": 4,
 "nbformat_minor": 5
}
