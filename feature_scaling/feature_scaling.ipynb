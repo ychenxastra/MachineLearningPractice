{
 "cells": [
  {
   "cell_type": "code",
   "execution_count": 1,
   "id": "0584c137",
   "metadata": {},
   "outputs": [
    {
     "name": "stdout",
     "output_type": "stream",
     "text": [
      "[0.0, 0.4166666666666667, 1.0]\n"
     ]
    }
   ],
   "source": [
    "# Min/Max Rescaler Coding Quiz\n",
    "def featureScaling(arr):\n",
    "    scaler_list = []\n",
    "    if max(arr) == min(arr):\n",
    "        for i in range(0,len(arr)):\n",
    "            scaler_list.append(0.5)\n",
    "        return scaler_list\n",
    "    else:\n",
    "        for i in range(0,len(arr)):\n",
    "            # attn: need float\n",
    "            scaler = (float)(arr[i]-min(arr))/(max(arr)-min(arr))\n",
    "            scaler_list.append(scaler)\n",
    "        return scaler_list\n",
    "\n",
    "# tests of your feature scaler--line below is input data\n",
    "data = [115, 140, 175]\n",
    "print(featureScaling(data))"
   ]
  },
  {
   "cell_type": "code",
   "execution_count": 2,
   "id": "b7b8795c",
   "metadata": {},
   "outputs": [
    {
     "data": {
      "text/plain": [
       "array([[0.        ],\n",
       "       [0.41666667],\n",
       "       [1.        ]])"
      ]
     },
     "execution_count": 2,
     "metadata": {},
     "output_type": "execute_result"
    }
   ],
   "source": [
    "# Min/Max Scaler in sklearn\n",
    "import numpy as np\n",
    "from sklearn.preprocessing import MinMaxScaler\n",
    "\n",
    "weights = np.array([[115.],[140.],[175.]])\n",
    "scaler = MinMaxScaler()\n",
    "rescaled_weight = scaler.fit_transform(weights)\n",
    "rescaled_weight"
   ]
  },
  {
   "cell_type": "code",
   "execution_count": 3,
   "id": "667b79b3",
   "metadata": {},
   "outputs": [
    {
     "name": "stdout",
     "output_type": "stream",
     "text": [
      "salary array: [[477], [200000.0], [1111258]]\n",
      "stock array: [[3285], [1000000.0], [34348384]]\n",
      "rescaled salary: [[0.        ]\n",
      " [0.17962407]\n",
      " [1.        ]]\n",
      "rescaled stock: [[0.        ]\n",
      " [0.02902059]\n",
      " [1.        ]]\n"
     ]
    }
   ],
   "source": [
    "# Computing Rescaled Features\n",
    "import os\n",
    "import joblib\n",
    "import numpy as np\n",
    "import sys\n",
    "sys.path.append(os.path.abspath(\"../tools/\"))\n",
    "\n",
    "data_dict = joblib.load(open(\"/home/ychen/ud120-projects/final_project/final_project_dataset.pkl\", \"rb\") )\n",
    "### there's an outlier--remove it! \n",
    "data_dict.pop(\"TOTAL\", 0)\n",
    "\n",
    "stocklist = []\n",
    "salarylist = []\n",
    "for item in data_dict:\n",
    "    salary = data_dict[item][\"salary\"]\n",
    "    stock = data_dict[item][\"exercised_stock_options\"]\n",
    "    if stock != 'NaN':\n",
    "        stocklist.append(stock)\n",
    "    if salary != 'NaN':\n",
    "        salarylist.append(salary)\n",
    "\n",
    "salarylist = [[min(salarylist)],[200000.0],[max(salarylist)]]\n",
    "stocklist = [[min(stocklist)],[1000000.0],[max(stocklist)]]\n",
    "\n",
    "print(\"salary array:\", salarylist)\n",
    "print(\"stock array:\", stocklist)\n",
    "\n",
    "scaler_salary = MinMaxScaler()\n",
    "rescaled_salary = scaler_salary.fit_transform(salarylist)\n",
    "scaler_stock = MinMaxScaler()\n",
    "rescaled_stock = scaler_salary.fit_transform(stocklist)\n",
    "\n",
    "print(\"rescaled salary:\", rescaled_salary)\n",
    "print(\"rescaled stock:\", rescaled_stock)"
   ]
  },
  {
   "cell_type": "code",
   "execution_count": null,
   "id": "34dfe391",
   "metadata": {},
   "outputs": [],
   "source": []
  }
 ],
 "metadata": {
  "kernelspec": {
   "display_name": "Python 3 (ipykernel)",
   "language": "python",
   "name": "python3"
  },
  "language_info": {
   "codemirror_mode": {
    "name": "ipython",
    "version": 3
   },
   "file_extension": ".py",
   "mimetype": "text/x-python",
   "name": "python",
   "nbconvert_exporter": "python",
   "pygments_lexer": "ipython3",
   "version": "3.8.10"
  }
 },
 "nbformat": 4,
 "nbformat_minor": 5
}
